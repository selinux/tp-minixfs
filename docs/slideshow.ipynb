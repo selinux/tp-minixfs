{
 "cells": [
  {
   "cell_type": "markdown",
   "metadata": {},
   "source": [
    "Sebastien Chassot <sebastien.chassot@etu.hesge.ch><br>\n",
    "_(GnuPG 0x3F432F8E)_ <br>\n",
    "HES-SO hepia ITI <br>\n",
    "[http://hepia.hesge.ch](http://hepia.hesge.ch)<br>\n",
    "\n",
    "* * * \n",
    "***"
   ]
  },
  {
   "cell_type": "markdown",
   "metadata": {},
   "source": [
    "# TP Système de fichier MinixFS\n",
    "\n",
    "## Introduction\n",
    "\n",
    "Le but de ce travail est d'implémenter un système MinixFS V1 en python et de proposer une API standard.<br>\n",
    "\n",
    "Le but est d'ouvrir un fichier _formaté_ en minixfs, et de le modifier via l'interface.<br>\n",
    "\n",
    "Dans un deuxième temps, les modifications seront faites à  travers le réseau. Un server (écrit en C) modifiera le fichier par block reçu via des sockets AF\\_INET. On réutilisera le travail fait en python et son API mais les block seront transmis au server selon un protocole relativement simple.<br>"
   ]
  },
  {
   "cell_type": "markdown",
   "metadata": {},
   "source": [
    "# Table des matière\n",
    "\n",
    "avec un petit peu de contenu\n",
    "\n",
    "pour suivre cette présentation depuis votre browser :"
   ]
  },
  {
   "cell_type": "code",
   "execution_count": 1,
   "metadata": {},
   "outputs": [
    {
     "name": "stderr",
     "output_type": "stream",
     "text": [
      "WARNING: No route found for IPv6 destination :: (no default route?)\n",
      "WARNING:scapy.runtime:No route found for IPv6 destination :: (no default route?)\n",
      "WARNING: Please, report issues to https://github.com/phaethon/scapy\n",
      "WARNING:scapy.loading:Please, report issues to https://github.com/phaethon/scapy\n"
     ]
    },
    {
     "name": "stdout",
     "output_type": "stream",
     "text": [
      "Packet : \n",
      "content :\n",
      "0000   F4 6D 04 94 18 D2 FC 94  E3 A8 4A 80 08 00 45 00   .m........J...E.\n",
      "0010   00 3C 00 00 40 00 38 06  47 CE 81 C2 B8 71 C0 A8   .<..@.8.G....q..\n",
      "0020   00 12 04 D2 86 56 05 88  91 9A 7E 31 8A 76 A0 12   .....V....~1.v..\n",
      "0030   38 90 EE ED 00 00 02 04  05 64 04 02 08 0A 0D 15   8........d......\n",
      "0040   74 AA 00 61 78 C0 01 03  03 07                     t..ax.....\n",
      "Packet : \n",
      "content :\n",
      "0000   FC 94 E3 A8 4A 80 F4 6D  04 94 18 D2 08 00 45 00   ....J..m......E.\n",
      "0010   00 48 F2 B7 40 00 40 06  4D 0A C0 A8 00 12 81 C2   .H..@.@.M.......\n",
      "0020   B8 71 86 56 04 D2 7E 31  8A 76 05 88 91 9B 80 18   .q.V..~1.v......\n",
      "0030   00 E5 26 B2 00 00 01 01  08 0A 00 61 78 C5 0D 15   ..&........ax...\n",
      "0040   74 AA 76 76 76 76 00 00  00 00 F8 E1 40 73 00 00   t.vvvv......@s..\n",
      "0050   04 00 00 00 04 00                                  ......\n",
      "Packet : \n",
      "content :\n",
      "0000   F4 6D 04 94 18 D2 FC 94  E3 A8 4A 80 08 00 45 00   .m........J...E.\n",
      "0010   00 40 4E 9E 40 00 38 06  F9 2B 81 C2 B8 71 C0 A8   .@N.@.8..+...q..\n",
      "0020   00 12 04 D2 86 56 05 88  91 9B 7E 31 8A 8A 80 18   .....V....~1....\n",
      "0030   00 72 0C F4 00 00 01 01  08 0A 0D 15 74 AD 00 61   .r..........t..a\n",
      "0040   78 C5 87 87 87 87 00 00  00 00 F8 E1 40 73         x...........@s\n",
      "Packet : \n",
      "content :\n",
      "0000   FC 94 E3 A8 4A 80 F4 6D  04 94 18 D2 08 00 45 00   ....J..m......E.\n",
      "0010   00 34 F2 B9 40 00 40 06  4D 1C C0 A8 00 12 81 C2   .4..@.@.M.......\n",
      "0020   B8 71 86 56 04 D2 7E 31  8A 8A 05 88 95 A7 80 10   .q.V..~1........\n",
      "0030   00 FB 50 CB 00 00 01 01  08 0A 00 61 78 CD 0D 15   ..P........ax...\n",
      "0040   74 B1                                              t.\n"
     ]
    }
   ],
   "source": [
    "import scapy\n",
    "from scapy.all import *\n",
    "from scapy.utils import rdpcap\n",
    "\n",
    "pkts=rdpcap(\"./tcpdump_hepia.cap\")\n",
    "\n",
    "for i in [1, 3, 5,8]:\n",
    "    print(\"Packet : \")\n",
    "    p=pkts[i]\n",
    "    p\n",
    "    print(\"content :\")\n",
    "    hexdump(pkts[i])"
   ]
  },
  {
   "cell_type": "code",
   "execution_count": 2,
   "metadata": {},
   "outputs": [
    {
     "name": "stdout",
     "output_type": "stream",
     "text": [
      "        inet 192.168.0.17  netmask 255.255.255.0  broadcast 192.168.0.255\r\n",
      "        inet6 fe80::5ec5:d4ff:fea7:3eb  prefixlen 64  scopeid 0x20<link>\r\n"
     ]
    }
   ],
   "source": [
    "!ifconfig wlp4s0 | grep inet\\"
   ]
  },
  {
   "cell_type": "code",
   "execution_count": null,
   "metadata": {},
   "outputs": [],
   "source": [
    "im"
   ]
  }
 ],
 "metadata": {
  "kernelspec": {
   "display_name": "Python 3",
   "language": "python",
   "name": "python3"
  },
  "language_info": {
   "codemirror_mode": {
    "name": "ipython",
    "version": 3.0
   },
   "file_extension": ".py",
   "mimetype": "text/x-python",
   "name": "python",
   "nbconvert_exporter": "python",
   "pygments_lexer": "ipython3",
   "version": "3.4.3"
  }
 },
 "nbformat": 4,
 "nbformat_minor": 0
}