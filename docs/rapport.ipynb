{
 "cells": [
  {
   "cell_type": "code",
   "execution_count": 1,
   "metadata": {
    "collapsed": false
   },
   "outputs": [],
   "source": [
    "from __future__ import division\n",
    "import numpy as np\n",
    "import matplotlib.pyplot as plt\n",
    "%matplotlib inline"
   ]
  },
  {
   "cell_type": "code",
   "execution_count": 2,
   "metadata": {
    "collapsed": false,
    "slideshow": {
     "slide_type": "slide"
    }
   },
   "outputs": [
    {
     "data": {
      "text/plain": [
       "array([ 0.30230893,  0.40299982,  0.19600766,  0.95260673,  0.40014594,\n",
       "        0.93053192,  0.14911967,  0.73715523,  0.45042009,  0.93697908,\n",
       "        0.38443402,  0.68981642,  0.5009628 ,  0.4972409 ,  0.57054871,\n",
       "        0.33237499,  0.02351703,  0.7847522 ,  0.22582114,  0.72101949,\n",
       "        0.29879473,  0.14317472,  0.25662467,  0.51491603,  0.42717013,\n",
       "        0.15876602,  0.71557411,  0.11173053,  0.02950491,  0.26436662,\n",
       "        0.10587588,  0.42329847,  0.99849075,  0.59712378,  0.99614796,\n",
       "        0.88112761,  0.24123704,  0.79940994,  0.64215631,  0.76553985,\n",
       "        0.85620818,  0.40820818,  0.53498496,  0.39651704,  0.18063347,\n",
       "        0.1740208 ,  0.94374697,  0.62550074,  0.47415672,  0.12654165])"
      ]
     },
     "execution_count": 2,
     "metadata": {},
     "output_type": "execute_result"
    }
   ],
   "source": [
    "x = np.random.uniform(0.0, 1.0, 50)\n",
    "x"
   ]
  },
  {
   "cell_type": "code",
   "execution_count": 1,
   "metadata": {
    "collapsed": true
   },
   "outputs": [],
   "source": [
    "%load_ext rpy2.ipython"
   ]
  },
  {
   "cell_type": "code",
   "execution_count": 6,
   "metadata": {
    "collapsed": false
   },
   "outputs": [],
   "source": [
    "%load_ext oct2py.ipython"
   ]
  },
  {
   "cell_type": "code",
   "execution_count": 7,
   "metadata": {
    "collapsed": false
   },
   "outputs": [
    {
     "data": {
      "text/plain": []
     },
     "metadata": {},
     "output_type": "display_data"
    },
    {
     "data": {
      "text/plain": [
       "array([[ 1.,  2.],\n",
       "       [ 3.,  4.]])"
      ]
     },
     "execution_count": 7,
     "metadata": {},
     "output_type": "execute_result"
    }
   ],
   "source": [
    "x = %octave [1 2; 3 4];\n",
    "x"
   ]
  },
  {
   "cell_type": "code",
   "execution_count": 2,
   "metadata": {
    "collapsed": false,
    "slideshow": {
     "slide_type": "subslide"
    }
   },
   "outputs": [
    {
     "data": {
      "text/plain": [
       "<FloatVector - Python:0x7f87e989b508 / R:0x331fad8>\n",
       "[4.250000]"
      ]
     },
     "execution_count": 2,
     "metadata": {},
     "output_type": "execute_result"
    }
   ],
   "source": [
    "%R X=c(1,4,5,7); sd(X); mean(X)"
   ]
  },
  {
   "cell_type": "code",
   "execution_count": 9,
   "metadata": {
    "collapsed": false
   },
   "outputs": [
    {
     "data": {
      "text/plain": [
       "array([[ 1.,  2.],\n",
       "       [ 3.,  4.]])"
      ]
     },
     "execution_count": 9,
     "metadata": {},
     "output_type": "execute_result"
    }
   ],
   "source": [
    "x"
   ]
  },
  {
   "cell_type": "code",
   "execution_count": null,
   "metadata": {
    "collapsed": true
   },
   "outputs": [],
   "source": []
  },
  {
   "cell_type": "code",
   "execution_count": null,
   "metadata": {
    "collapsed": true
   },
   "outputs": [],
   "source": []
  },
  {
   "cell_type": "code",
   "execution_count": 10,
   "metadata": {
    "collapsed": false
   },
   "outputs": [],
   "source": [
    " _ = %R x = c(3,4,6.7); y = c(4,6,7); z = c('a',3,4)"
   ]
  },
  {
   "cell_type": "code",
   "execution_count": null,
   "metadata": {
    "collapsed": true
   },
   "outputs": [],
   "source": []
  },
  {
   "cell_type": "code",
   "execution_count": 8,
   "metadata": {
    "collapsed": false
   },
   "outputs": [
    {
     "name": "stdout",
     "output_type": "stream",
     "text": [
      "hi, stdout\n",
      "hi, stdout\n",
      "total 7160\n",
      "drwxr-xr-x 6 1000 1000    4096 Jun  3 18:56 .\n",
      "drwxr-xr-x 7 1000 1000    4096 Jun  1 21:48 ..\n",
      "-rw-r--r-- 1 1000 1000    1036 May 15 09:59 bug_tracking.txt\n",
      "-rw-r--r-- 1 1000 1000     799 May 30 12:06 changelogs.txt\n",
      "drwxr-xr-x 2 1000 1000    4096 May 16 15:11 imgs\n",
      "drwxr-xr-x 2 1000 1000    4096 May 16 15:11 inputs\n",
      "drwxr-xr-x 2 1000 1000    4096 Jun  2 20:58 .ipynb_checkpoints\n",
      "-r-------- 1 1000 1000  123480 Mar 26 09:01 mini_projet_progsysteme_hepia_2014_2015_minix_fs.pdf\n",
      "-rw-r--r-- 1 1000 1000       0 Mar 28 18:27 planing.txt\n",
      "-rw-r--r-- 1 1000 1000    1166 Jun  2 08:56 rapport.aux\n",
      "-rw-r--r-- 1 1000 1000   67308 Jun  2 08:56 rapport.dvi\n",
      "-rw-r--r-- 1 1000 1000   10621 Jun  2 10:29 rapport.fdb_latexmk\n",
      "-rw-r--r-- 1 1000 1000   10518 Jun  2 08:56 rapport.fls\n",
      "-rw-r--r-- 1 root root   43516 Jun  3 18:56 rapport.ipynb\n",
      "-rw-r--r-- 1 1000 1000   21587 Jun  2 10:29 rapport.log\n",
      "-rw-r--r-- 1 1000 1000     185 Jun  2 08:56 rapport.out\n",
      "-rw-r--r-- 1 1000 1000  221174 May 30 12:41 rapport.pdf\n",
      "-rw-r--r-- 1 1000 1000  283947 Jun  2 13:20 rapport.slides.html\n",
      "-rw-r--r-- 1 1000 1000   50895 Jun  2 08:54 rapport.tex\n",
      "-rw-r--r-- 1 1000 1000     913 May 30 12:41 rapport.toc\n",
      "drwxr-xr-x 2 1000 1000    4096 May 30 15:15 scrum_taiga\n",
      "-rw-r--r-- 1 root root 3190848 May 17 14:40 tcpdump.cap\n",
      "-rw-r--r-- 1 1000 1000 3218646 May 17 15:15 tcpdump_hepia.cap\n",
      "-rw-r--r-- 1 1000 1000    1832 May 30 12:09 todo.txt\n",
      "-rw-r--r-- 1 1000 1000    7011 Mar 28 17:10 TP3_minix.txt\n",
      "-rw-r--r-- 1 root root      72 Jun  2 20:58 Untitled1.ipynb\n",
      "-rw-r--r-- 1 1000 1000    1059 Jun  2 11:28 Untitled.ipynb\n",
      "\n",
      "[29.03.2015]  call of ialloc, balloc, ifree, bfree functions use 1 as first block/inode.\n",
      "[29.03.2015]  add bmap() function\n",
      "[29.03.2015]  remplaced os.open() by open(), read(), write()\n",
      "[06.04.2015]  add function write_inodes_list, write_imap, write_zone\n",
      "[19.04.2015]  correct bitarray endianness (little)\n",
      "[19.04.2015]  change function write_inodes,... to update_imap, update_bmap\n",
      "[26.04.2015]  add function lookup_entry and namei\n",
      "[26.04.2015]  extend lookup_entry to any number of indir/double indir blocks\n",
      "[01.05.2015]  All tests passed successfully\n",
      "[05.05.2015]  test2 failure. It came from zone = [] when instenciate new inode\n",
      "[09.05.2015]  Added class remote_block_device\n",
      "[10.05.2015]  Added block server (first draft)\n",
      "[24.05.2015]  All tests pass successfully\n",
      "[30.05.2015]  start documentation\n"
     ]
    },
    {
     "name": "stderr",
     "output_type": "stream",
     "text": [
      "hello, stderr\n",
      "hello, stderr\n"
     ]
    }
   ],
   "source": [
    "%%bash\n",
    "echo \"hello, stderr\" >&2\n",
    "\n",
    "echo \"hi, stdout\"\n",
    "echo \"hello, stderr\" >&2\n",
    "echo \"hi, stdout\"\n",
    "\n",
    "ls -al\n",
    "cat changelogs.txt"
   ]
  },
  {
   "cell_type": "code",
   "execution_count": null,
   "metadata": {
    "collapsed": true
   },
   "outputs": [],
   "source": []
  },
  {
   "cell_type": "code",
   "execution_count": null,
   "metadata": {
    "collapsed": true
   },
   "outputs": [],
   "source": []
  },
  {
   "cell_type": "code",
   "execution_count": null,
   "metadata": {
    "collapsed": true
   },
   "outputs": [],
   "source": []
  },
  {
   "cell_type": "code",
   "execution_count": null,
   "metadata": {
    "collapsed": true
   },
   "outputs": [],
   "source": []
  },
  {
   "cell_type": "code",
   "execution_count": null,
   "metadata": {
    "collapsed": true
   },
   "outputs": [],
   "source": []
  },
  {
   "cell_type": "code",
   "execution_count": 14,
   "metadata": {
    "collapsed": false
   },
   "outputs": [
    {
     "ename": "NameError",
     "evalue": "name 'bashout' is not defined",
     "output_type": "error",
     "traceback": [
      "\u001b[1;31m---------------------------------------------------------------------------\u001b[0m",
      "\u001b[1;31mNameError\u001b[0m                                 Traceback (most recent call last)",
      "\u001b[1;32m<ipython-input-14-2f0cb0905db4>\u001b[0m in \u001b[0;36m<module>\u001b[1;34m()\u001b[0m\n\u001b[0;32m      3\u001b[0m \u001b[0mline\u001b[0m \u001b[1;33m=\u001b[0m \u001b[1;32mTrue\u001b[0m\u001b[1;33m\u001b[0m\u001b[0m\n\u001b[0;32m      4\u001b[0m \u001b[1;32mwhile\u001b[0m \u001b[1;32mTrue\u001b[0m\u001b[1;33m:\u001b[0m\u001b[1;33m\u001b[0m\u001b[0m\n\u001b[1;32m----> 5\u001b[1;33m     \u001b[0mline\u001b[0m \u001b[1;33m=\u001b[0m \u001b[0mbashout\u001b[0m\u001b[1;33m.\u001b[0m\u001b[0mreadline\u001b[0m\u001b[1;33m(\u001b[0m\u001b[1;33m)\u001b[0m\u001b[1;33m\u001b[0m\u001b[0m\n\u001b[0m\u001b[0;32m      6\u001b[0m     \u001b[1;32mif\u001b[0m \u001b[1;32mnot\u001b[0m \u001b[0mline\u001b[0m\u001b[1;33m:\u001b[0m\u001b[1;33m\u001b[0m\u001b[0m\n\u001b[0;32m      7\u001b[0m         \u001b[1;32mbreak\u001b[0m\u001b[1;33m\u001b[0m\u001b[0m\n",
      "\u001b[1;31mNameError\u001b[0m: name 'bashout' is not defined"
     ]
    }
   ],
   "source": [
    "import time\n",
    "tic = time.time()\n",
    "line = True\n",
    "while True:\n",
    "    line = bashout.readline()\n",
    "    if not line:\n",
    "        break\n",
    "    sys.stdout.write(\"%.1fs: %s\" %(time.time()-tic, line))\n",
    "    sys.stdout.flush()"
   ]
  },
  {
   "cell_type": "code",
   "execution_count": null,
   "metadata": {
    "collapsed": true
   },
   "outputs": [],
   "source": []
  },
  {
   "cell_type": "code",
   "execution_count": null,
   "metadata": {
    "collapsed": true
   },
   "outputs": [],
   "source": []
  },
  {
   "cell_type": "code",
   "execution_count": null,
   "metadata": {
    "collapsed": true
   },
   "outputs": [],
   "source": []
  },
  {
   "cell_type": "code",
   "execution_count": 12,
   "metadata": {
    "collapsed": false
   },
   "outputs": [
    {
     "name": "stdout",
     "output_type": "stream",
     "text": [
      "Starting job # 0 in a separate thread.\n"
     ]
    }
   ],
   "source": [
    "%%ruby --bg --out ruby_lines\n",
    "for n in 1...10\n",
    "    sleep 1\n",
    "    puts \"line #{n}\"\n",
    "    STDOUT.flush\n",
    "end"
   ]
  },
  {
   "cell_type": "code",
   "execution_count": 13,
   "metadata": {
    "collapsed": false
   },
   "outputs": [
    {
     "name": "stdout",
     "output_type": "stream",
     "text": [
      "b'line 1\\nline 2\\nline 3\\nline 4\\nline 5\\nline 6\\nline 7\\nline 8\\nline 9\\n'\n"
     ]
    }
   ],
   "source": [
    "ruby_lines\n",
    "print(ruby_lines.read())"
   ]
  },
  {
   "cell_type": "code",
   "execution_count": null,
   "metadata": {
    "collapsed": true,
    "slideshow": {
     "slide_type": "slide"
    }
   },
   "outputs": [],
   "source": []
  },
  {
   "cell_type": "code",
   "execution_count": null,
   "metadata": {
    "collapsed": true
   },
   "outputs": [],
   "source": []
  },
  {
   "cell_type": "code",
   "execution_count": null,
   "metadata": {
    "collapsed": true
   },
   "outputs": [],
   "source": []
  },
  {
   "cell_type": "code",
   "execution_count": null,
   "metadata": {
    "collapsed": true
   },
   "outputs": [],
   "source": []
  },
  {
   "cell_type": "code",
   "execution_count": null,
   "metadata": {
    "collapsed": true
   },
   "outputs": [],
   "source": []
  },
  {
   "cell_type": "code",
   "execution_count": null,
   "metadata": {
    "collapsed": true
   },
   "outputs": [],
   "source": []
  },
  {
   "cell_type": "code",
   "execution_count": null,
   "metadata": {
    "collapsed": true
   },
   "outputs": [],
   "source": []
  },
  {
   "cell_type": "code",
   "execution_count": null,
   "metadata": {
    "collapsed": true
   },
   "outputs": [],
   "source": []
  },
  {
   "cell_type": "code",
   "execution_count": null,
   "metadata": {
    "collapsed": true
   },
   "outputs": [],
   "source": []
  },
  {
   "cell_type": "code",
   "execution_count": null,
   "metadata": {
    "collapsed": true
   },
   "outputs": [],
   "source": []
  },
  {
   "cell_type": "code",
   "execution_count": 7,
   "metadata": {
    "collapsed": false
   },
   "outputs": [
    {
     "name": "stderr",
     "output_type": "stream",
     "text": [
      "ERROR: Line magic function `%octave` not found.\n"
     ]
    }
   ],
   "source": [
    "a = %octave [1 2; 3 4];\n",
    "a"
   ]
  },
  {
   "cell_type": "code",
   "execution_count": null,
   "metadata": {
    "collapsed": true
   },
   "outputs": [],
   "source": [
    "from oct2py import octave as oc\n",
    "from scipy import *\n"
   ]
  },
  {
   "cell_type": "code",
   "execution_count": null,
   "metadata": {
    "collapsed": true
   },
   "outputs": [],
   "source": []
  },
  {
   "cell_type": "code",
   "execution_count": null,
   "metadata": {
    "collapsed": true
   },
   "outputs": [],
   "source": []
  },
  {
   "cell_type": "code",
   "execution_count": null,
   "metadata": {
    "collapsed": true
   },
   "outputs": [],
   "source": []
  },
  {
   "cell_type": "code",
   "execution_count": null,
   "metadata": {
    "collapsed": true
   },
   "outputs": [],
   "source": []
  },
  {
   "cell_type": "code",
   "execution_count": null,
   "metadata": {
    "collapsed": true
   },
   "outputs": [],
   "source": []
  },
  {
   "cell_type": "code",
   "execution_count": null,
   "metadata": {
    "collapsed": true
   },
   "outputs": [],
   "source": []
  },
  {
   "cell_type": "code",
   "execution_count": 3,
   "metadata": {
    "collapsed": false
   },
   "outputs": [
    {
     "data": {
      "text/plain": [
       "array([-1.13538555,  1.00791906,  0.25952187, -0.68861001,  0.39114891,\n",
       "        0.34604681, -0.89069391,  0.36138425, -0.25793176,  0.69458795,\n",
       "        3.25618794,  0.50666736,  0.19517959, -0.30505544,  1.00336872,\n",
       "        1.79529407,  0.50453956,  0.55823819,  0.10980447,  0.16047724,\n",
       "        1.2841511 ,  0.21979297,  0.83788136,  0.75474388,  0.84902908,\n",
       "       -1.47913891,  0.80228053, -1.27360998, -0.15440197,  0.7147859 ,\n",
       "        0.27165588,  0.94971122, -1.35053764,  0.62752365, -1.04206334,\n",
       "        0.48209045,  0.53110506,  0.04477456,  0.62960961, -0.44647221,\n",
       "        0.8045767 , -1.03590516,  0.22831115, -0.13553394, -0.89239342,\n",
       "        1.00166928,  0.94892967,  0.51502012, -0.26304179, -0.20670929])"
      ]
     },
     "execution_count": 3,
     "metadata": {},
     "output_type": "execute_result"
    }
   ],
   "source": [
    "y = np.random.normal(0.0, 1.0, 50)\n",
    "y"
   ]
  },
  {
   "cell_type": "code",
   "execution_count": null,
   "metadata": {
    "collapsed": true
   },
   "outputs": [],
   "source": []
  },
  {
   "cell_type": "code",
   "execution_count": 5,
   "metadata": {
    "collapsed": false
   },
   "outputs": [
    {
     "ename": "NameError",
     "evalue": "name 'plt' is not defined",
     "output_type": "error",
     "traceback": [
      "\u001b[1;31m---------------------------------------------------------------------------\u001b[0m",
      "\u001b[1;31mNameError\u001b[0m                                 Traceback (most recent call last)",
      "\u001b[1;32m<ipython-input-5-5c5ee33b29e6>\u001b[0m in \u001b[0;36m<module>\u001b[1;34m()\u001b[0m\n\u001b[1;32m----> 1\u001b[1;33m \u001b[0mplt\u001b[0m\u001b[1;33m.\u001b[0m\u001b[0mylabel\u001b[0m\u001b[1;33m(\u001b[0m\u001b[1;34m\"MPG\"\u001b[0m\u001b[1;33m)\u001b[0m\u001b[1;33m\u001b[0m\u001b[0m\n\u001b[0m\u001b[0;32m      2\u001b[0m \u001b[0mauto_df\u001b[0m\u001b[1;33m.\u001b[0m\u001b[0mplot\u001b[0m\u001b[1;33m(\u001b[0m\u001b[0mx\u001b[0m\u001b[1;33m=\u001b[0m\u001b[1;34m\"cylinders\"\u001b[0m\u001b[1;33m,\u001b[0m \u001b[0my\u001b[0m\u001b[1;33m=\u001b[0m\u001b[1;34m\"mpg\"\u001b[0m\u001b[1;33m,\u001b[0m \u001b[0mstyle\u001b[0m\u001b[1;33m=\u001b[0m\u001b[1;34m'o'\u001b[0m\u001b[1;33m)\u001b[0m\u001b[1;33m\u001b[0m\u001b[0m\n",
      "\u001b[1;31mNameError\u001b[0m: name 'plt' is not defined"
     ]
    }
   ],
   "source": [
    "plt.ylabel(\"MPG\")\n",
    "auto_df.plot(x=\"cylinders\", y=\"mpg\", style='o')"
   ]
  },
  {
   "cell_type": "code",
   "execution_count": 2,
   "metadata": {
    "collapsed": false
   },
   "outputs": [
    {
     "ename": "NameError",
     "evalue": "name 'plt' is not defined",
     "output_type": "error",
     "traceback": [
      "\u001b[1;31m---------------------------------------------------------------------------\u001b[0m",
      "\u001b[1;31mNameError\u001b[0m                                 Traceback (most recent call last)",
      "\u001b[1;32m<ipython-input-2-3396cfcac764>\u001b[0m in \u001b[0;36m<module>\u001b[1;34m()\u001b[0m\n\u001b[1;32m----> 1\u001b[1;33m \u001b[0mfig\u001b[0m\u001b[1;33m,\u001b[0m \u001b[0max\u001b[0m \u001b[1;33m=\u001b[0m \u001b[0mplt\u001b[0m\u001b[1;33m.\u001b[0m\u001b[0msubplots\u001b[0m\u001b[1;33m(\u001b[0m\u001b[1;33m)\u001b[0m\u001b[1;33m\u001b[0m\u001b[0m\n\u001b[0m\u001b[0;32m      2\u001b[0m \u001b[0mplt\u001b[0m\u001b[1;33m.\u001b[0m\u001b[0mscatter\u001b[0m\u001b[1;33m(\u001b[0m\u001b[0mx\u001b[0m\u001b[1;33m,\u001b[0m \u001b[0my\u001b[0m\u001b[1;33m)\u001b[0m\u001b[1;33m\u001b[0m\u001b[0m\n",
      "\u001b[1;31mNameError\u001b[0m: name 'plt' is not defined"
     ]
    }
   ],
   "source": [
    "fig, ax = plt.subplots()\n",
    "plt.scatter(x, y)"
   ]
  },
  {
   "cell_type": "code",
   "execution_count": 1,
   "metadata": {
    "collapsed": false
   },
   "outputs": [
    {
     "ename": "NameError",
     "evalue": "name 'plt' is not defined",
     "output_type": "error",
     "traceback": [
      "\u001b[1;31m---------------------------------------------------------------------------\u001b[0m",
      "\u001b[1;31mNameError\u001b[0m                                 Traceback (most recent call last)",
      "\u001b[1;32m<ipython-input-1-9a8dcfad0cad>\u001b[0m in \u001b[0;36m<module>\u001b[1;34m()\u001b[0m\n\u001b[1;32m----> 1\u001b[1;33m \u001b[0mplt\u001b[0m\u001b[1;33m.\u001b[0m\u001b[0msubplot\u001b[0m\u001b[1;33m(\u001b[0m\u001b[1;36m121\u001b[0m\u001b[1;33m)\u001b[0m    \u001b[1;31m# parameter indicates 1 rows, 2 col, first figure\u001b[0m\u001b[1;33m\u001b[0m\u001b[0m\n\u001b[0m\u001b[0;32m      2\u001b[0m \u001b[0mplt\u001b[0m\u001b[1;33m.\u001b[0m\u001b[0mscatter\u001b[0m\u001b[1;33m(\u001b[0m\u001b[0mx\u001b[0m\u001b[1;33m,\u001b[0m \u001b[0my\u001b[0m\u001b[1;33m)\u001b[0m\u001b[1;33m\u001b[0m\u001b[0m\n\u001b[0;32m      3\u001b[0m \u001b[0mplt\u001b[0m\u001b[1;33m.\u001b[0m\u001b[0msubplot\u001b[0m\u001b[1;33m(\u001b[0m\u001b[1;36m122\u001b[0m\u001b[1;33m)\u001b[0m\u001b[1;33m\u001b[0m\u001b[0m\n\u001b[0;32m      4\u001b[0m \u001b[0mplt\u001b[0m\u001b[1;33m.\u001b[0m\u001b[0mhist\u001b[0m\u001b[1;33m(\u001b[0m\u001b[0my\u001b[0m\u001b[1;33m)\u001b[0m\u001b[1;33m\u001b[0m\u001b[0m\n",
      "\u001b[1;31mNameError\u001b[0m: name 'plt' is not defined"
     ]
    }
   ],
   "source": [
    "plt.subplot(121)    # parameter indicates 1 rows, 2 col, first figure\n",
    "plt.scatter(x, y)\n",
    "plt.subplot(122)\n",
    "plt.hist(y)"
   ]
  },
  {
   "cell_type": "code",
   "execution_count": null,
   "metadata": {
    "collapsed": true
   },
   "outputs": [],
   "source": []
  },
  {
   "cell_type": "code",
   "execution_count": null,
   "metadata": {
    "collapsed": true
   },
   "outputs": [],
   "source": []
  },
  {
   "cell_type": "markdown",
   "metadata": {},
   "source": [
    "# Tile of my document #\n",
    "\n",
    "this is a block of text\n",
    "\n",
    "follwed by a subtitle\n",
    "\n",
    " * fgdff\n",
    " * ghgfhd\n",
    " * [lien...](http://google.ch)\n",
    "\n",
    "## subtitle ##\n",
    "\n",
    "continue\n",
    "### Un subsubtitle ###\n",
    "\n",
    "$\\sum_{i=0}{a}\\frac{a^2}{b^3}$\n",
    "\n",
    "### Exemple de code ###\n",
    "\n",
    "```python\n",
    "\n",
    "def add_entry(self, dinode, name, new_node_num):\n",
    "        \"\"\" add a new entry in a dinode (dir)\n",
    "\n",
    "        :param dinode: inode number of the dir\n",
    "        :param name: name of the file to be added\n",
    "        :param new_node_num: inode of the new file\n",
    "        \"\"\"\n",
    "        done = False\n",
    "        blk = -1\n",
    "        # TODO increment link de l'inode\n",
    "\n",
    "        if len(name) > (DIRSIZE - 2):\n",
    "            raise FileNameError('Error Filename too long')\n",
    "        if self.lookup_entry(dinode, name):\n",
    "            raise AddEntryError('Error filename already exist in dir')\n",
    "\n",
    "        while not done:\n",
    "\n",
    "            blk += 1\n",
    "            data_block = self.bmap(dinode, blk)\n",
    "\n",
    "            if data_block:\n",
    "                # TODO if new block  bytearray(\"\".ljust(1024, '\\x00'))\n",
    "                self.content = bytearray(self.disk.read_bloc(data_block))\n",
    "\n",
    "            elif blk < MINIX_ZONESZ ** 2 + MINIX_ZONESZ + 7:\n",
    "                data_block = self.ialloc_bloc(dinode, blk)\n",
    "                # empty new block\n",
    "                self.content = bytearray(\"\".ljust(1024, '\\x00'))\n",
    "\n",
    "            else:\n",
    "                raise DirFullError('Error too many file in dir: overflow')\n",
    "\n",
    "            for off in xrange(0, BLOCK_SIZE, DIRSIZE):\n",
    "                if not struct.unpack_from('H', self.content, off)[0]:\n",
    "                    struct.pack_into('H', self.content, off, new_node_num)\n",
    "                    self.content[off + 2:off + DIRSIZE] = name.ljust(DIRSIZE - 2, '\\x00')\n",
    "                    dinode.i_size += DIRSIZE\n",
    "                    done = True\n",
    "                    break\n",
    "\n",
    "        if done:\n",
    "            self.disk.write_bloc(data_block, self.content)\n",
    "        else:\n",
    "            raise AddError('Unable to add entry')\n",
    "```"
   ]
  },
  {
   "cell_type": "markdown",
   "metadata": {},
   "source": [
    "[Lien vers google...](https://www.google.com)"
   ]
  },
  {
   "cell_type": "code",
   "execution_count": 2,
   "metadata": {
    "collapsed": false
   },
   "outputs": [
    {
     "name": "stdout",
     "output_type": "stream",
     "text": [
      "Help on class range in module builtins:\n",
      "\n",
      "class range(object)\n",
      " |  range(stop) -> range object\n",
      " |  range(start, stop[, step]) -> range object\n",
      " |  \n",
      " |  Return a sequence of numbers from start to stop by step.\n",
      " |  \n",
      " |  Methods defined here:\n",
      " |  \n",
      " |  __contains__(self, key, /)\n",
      " |      Return key in self.\n",
      " |  \n",
      " |  __eq__(self, value, /)\n",
      " |      Return self==value.\n",
      " |  \n",
      " |  __ge__(self, value, /)\n",
      " |      Return self>=value.\n",
      " |  \n",
      " |  __getattribute__(self, name, /)\n",
      " |      Return getattr(self, name).\n",
      " |  \n",
      " |  __getitem__(self, key, /)\n",
      " |      Return self[key].\n",
      " |  \n",
      " |  __gt__(self, value, /)\n",
      " |      Return self>value.\n",
      " |  \n",
      " |  __hash__(self, /)\n",
      " |      Return hash(self).\n",
      " |  \n",
      " |  __iter__(self, /)\n",
      " |      Implement iter(self).\n",
      " |  \n",
      " |  __le__(self, value, /)\n",
      " |      Return self<=value.\n",
      " |  \n",
      " |  __len__(self, /)\n",
      " |      Return len(self).\n",
      " |  \n",
      " |  __lt__(self, value, /)\n",
      " |      Return self<value.\n",
      " |  \n",
      " |  __ne__(self, value, /)\n",
      " |      Return self!=value.\n",
      " |  \n",
      " |  __new__(*args, **kwargs) from builtins.type\n",
      " |      Create and return a new object.  See help(type) for accurate signature.\n",
      " |  \n",
      " |  __reduce__(...)\n",
      " |  \n",
      " |  __repr__(self, /)\n",
      " |      Return repr(self).\n",
      " |  \n",
      " |  __reversed__(...)\n",
      " |      Return a reverse iterator.\n",
      " |  \n",
      " |  count(...)\n",
      " |      rangeobject.count(value) -> integer -- return number of occurrences of value\n",
      " |  \n",
      " |  index(...)\n",
      " |      rangeobject.index(value, [start, [stop]]) -> integer -- return index of value.\n",
      " |      Raise ValueError if the value is not present.\n",
      " |  \n",
      " |  ----------------------------------------------------------------------\n",
      " |  Data descriptors defined here:\n",
      " |  \n",
      " |  start\n",
      " |  \n",
      " |  step\n",
      " |  \n",
      " |  stop\n",
      "\n"
     ]
    }
   ],
   "source": [
    "help(range)"
   ]
  },
  {
   "cell_type": "code",
   "execution_count": 8,
   "metadata": {
    "collapsed": false
   },
   "outputs": [
    {
     "ename": "ImportError",
     "evalue": "No module named 'constantes'",
     "output_type": "error",
     "traceback": [
      "\u001b[1;31m---------------------------------------------------------------------------\u001b[0m",
      "\u001b[1;31mImportError\u001b[0m                               Traceback (most recent call last)",
      "\u001b[1;32m<ipython-input-8-22e7a80af61a>\u001b[0m in \u001b[0;36m<module>\u001b[1;34m()\u001b[0m\n\u001b[0;32m      9\u001b[0m \u001b[0m__status__\u001b[0m \u001b[1;33m=\u001b[0m \u001b[1;34m\"TP minix fs\"\u001b[0m\u001b[1;33m\u001b[0m\u001b[0m\n\u001b[0;32m     10\u001b[0m \u001b[1;33m\u001b[0m\u001b[0m\n\u001b[1;32m---> 11\u001b[1;33m \u001b[1;32mfrom\u001b[0m \u001b[0mconstantes\u001b[0m \u001b[1;32mimport\u001b[0m \u001b[1;33m*\u001b[0m\u001b[1;33m\u001b[0m\u001b[0m\n\u001b[0m\u001b[0;32m     12\u001b[0m \u001b[1;33m\u001b[0m\u001b[0m\n\u001b[0;32m     13\u001b[0m \u001b[1;34m\"\"\" Extract the super block from a block device \"\"\"\u001b[0m\u001b[1;33m\u001b[0m\u001b[0m\n",
      "\u001b[1;31mImportError\u001b[0m: No module named 'constantes'"
     ]
    }
   ],
   "source": [
    "# %load ../minixfs.py\n",
    "\n",
    "__author__ = 'Sebastien Chassot'\n",
    "__author_email__ = 'sebastien.chassot@etu.hesge.ch'\n",
    "\n",
    "__version__ = \"1.0.1\"\n",
    "__copyright__ = \"\"\n",
    "__licence__ = \"\"\n",
    "__status__ = \"TP minix fs\"\n",
    "\n",
    "from constantes import *\n",
    "\n",
    "\"\"\" Extract the super block from a block device \"\"\"\n",
    "class minix_superbloc(object):\n",
    "\n",
    "    def __init__(self, blk_device):\n",
    "        \"\"\" Init the super block\n",
    "        :param blk_device: the block device\n",
    "        \"\"\"\n",
    "        try:\n",
    "            sb = struct.unpack_from('HHHHHHIHH', blk_device.read_bloc(MINIX_SUPER_BLOCK_NUM))\n",
    "        except OSError:\n",
    "            exit(\"Error unable to read super block\")\n",
    "\n",
    "        self.s_ninodes, self.s_nzones, self.s_imap_blocks, self.s_zmap_blocks, self.s_firstdatazone, \\\n",
    "            self.s_log_zone_size, self.s_max_size, self.s_magic, self.s_state = sb\n",
    "\n"
   ]
  },
  {
   "cell_type": "code",
   "execution_count": 9,
   "metadata": {
    "collapsed": false
   },
   "outputs": [
    {
     "ename": "ImportError",
     "evalue": "No module named 'bitarray'",
     "output_type": "error",
     "traceback": [
      "\u001b[1;31m---------------------------------------------------------------------------\u001b[0m",
      "\u001b[1;31mImportError\u001b[0m                               Traceback (most recent call last)",
      "\u001b[1;32m<ipython-input-9-61603fe0093e>\u001b[0m in \u001b[0;36m<module>\u001b[1;34m()\u001b[0m\n\u001b[0;32m     14\u001b[0m \u001b[1;32mimport\u001b[0m \u001b[0mtime\u001b[0m\u001b[1;33m\u001b[0m\u001b[0m\n\u001b[0;32m     15\u001b[0m \u001b[1;32mfrom\u001b[0m \u001b[0mstat\u001b[0m \u001b[1;32mimport\u001b[0m \u001b[1;33m*\u001b[0m\u001b[1;33m\u001b[0m\u001b[0m\n\u001b[1;32m---> 16\u001b[1;33m \u001b[1;32mfrom\u001b[0m \u001b[0mbitarray\u001b[0m \u001b[1;32mimport\u001b[0m \u001b[1;33m*\u001b[0m\u001b[1;33m\u001b[0m\u001b[0m\n\u001b[0m\u001b[0;32m     17\u001b[0m \u001b[1;32mimport\u001b[0m \u001b[0mlogging\u001b[0m \u001b[1;32mas\u001b[0m \u001b[0mlog\u001b[0m\u001b[1;33m\u001b[0m\u001b[0m\n\u001b[0;32m     18\u001b[0m \u001b[1;32mimport\u001b[0m \u001b[0mhexdump\u001b[0m\u001b[1;33m\u001b[0m\u001b[0m\n",
      "\u001b[1;31mImportError\u001b[0m: No module named 'bitarray'"
     ]
    }
   ],
   "source": [
    "# %load ../constantes.py\n",
    "\n",
    "__author__ = 'Sebastien Chassot'\n",
    "__author_email__ = 'sebastien.chassot@etu.hesge.ch'\n",
    "\n",
    "__version__ = \"1.0.1\"\n",
    "__copyright__ = \"\"\n",
    "__licence__ = \"\"\n",
    "__status__ = \"TP minix fs\"\n",
    "\n",
    "import sys\n",
    "import struct\n",
    "import os\n",
    "import time\n",
    "from stat import *\n",
    "from bitarray import *\n",
    "import logging as log\n",
    "import hexdump\n",
    "\n",
    "#block size in bytes\n",
    "BLOCK_SIZE=1024\n",
    "#on which block number is the superbloc\n",
    "MINIX_SUPER_BLOCK_NUM=1\n",
    "#that's in octets units\n",
    "MINIX_SUPER_BLOCK_SIZE=20\n",
    "MINIX_ROOT_INO=1\n",
    "#zone number are encoded with 2 bytes\n",
    "#hence 512 possible indirect zones in a bloc\n",
    "MINIX_ZONESZ=int(BLOCK_SIZE/2)\n",
    "DIRSIZE=16\n",
    "MAXOPENFILE=10\n",
    "MINIX_DIR_ENTRIES_PER_BLOCK=BLOCK_SIZE/DIRSIZE\n",
    "#inode types\n",
    "I_DIRECTORY=0o040000\n",
    "I_REGULAR=0o100000\n",
    "#inode structure size in bytes\n",
    "INODE_SIZE=32\n",
    "MINIX_INODE_PER_BLOCK=BLOCK_SIZE/INODE_SIZE\n"
   ]
  },
  {
   "cell_type": "code",
   "execution_count": null,
   "metadata": {
    "collapsed": true
   },
   "outputs": [],
   "source": []
  },
  {
   "cell_type": "code",
   "execution_count": null,
   "metadata": {
    "collapsed": true
   },
   "outputs": [],
   "source": [
    "# %load ../bloc_device.py\n",
    "# emulate a simple bloc device using a file\n",
    "# reading it only by bloc units\n",
    "\n",
    "__author__ = 'Sebastien Chassot'\n",
    "__author_email__ = 'sebastien.chassot@etu.hesge.ch'\n",
    "\n",
    "__version__ = \"1.0.1\"\n",
    "__copyright__ = \"\"\n",
    "__licence__ = \"\"\n",
    "__status__ = \"TP minix fs\"\n",
    "\n",
    "\n",
    "from minix_superbloc import *\n",
    "import socket\n",
    "import random as rand\n",
    "import logging as log\n",
    "\n",
    "log.basicConfig(format='%(levelname)s:%(message)s', level=log.INFO)\n",
    "\n",
    "\n",
    "class bloc_device(object):\n",
    "    \"\"\" Class block device \"\"\"\n",
    "\n",
    "    def __init__(self, blksize, pathname):\n",
    "        \"\"\" Init a new block device \"\"\"\n",
    "        self.blksize = blksize\n",
    "\n",
    "        # with open(pathname, 'br') as self.fd:\n",
    "        try:\n",
    "            self.fd = open(pathname, 'r+b')\n",
    "        except OSError:\n",
    "            sys.exit(\"Error unable to open file system\")\n",
    "\n",
    "        self.super_block = minix_superbloc(self)\n",
    "        log.info(\"file system opened successfully\")\n",
    "\n",
    "    def __del__(self):\n",
    "        \"\"\" Close properly the block device \"\"\"\n",
    "        new_sb = bytearray(\"\".ljust(1024, '\\x00'))\n",
    "        clean_state = 1\n",
    "        sb = struct.pack('HHHHHHIHH', self.super_block.s_ninodes, self.super_block.s_nzones,\n",
    "                self.super_block.s_imap_blocks, self.super_block.s_zmap_blocks, self.super_block.s_firstdatazone,\n",
    "                self.super_block.s_log_zone_size, self.super_block.s_max_size, self.super_block.s_magic, clean_state)\n",
    "        new_sb[:sb.__len__()] = sb\n",
    "        log.info(\"file system cleanly closed\")\n",
    "        # self.write_bloc(MINIX_SUPER_BLOCK_NUM, new_sb)\n",
    "        self.fd.close()\n",
    "\n",
    "    def read_bloc(self, bloc_num, numofblk=1):\n",
    "        \"\"\" Read n block from block device\n",
    "        :param bloc_num: block number to be read\n",
    "        :param numofblk: number of block to be read\n",
    "        :return: the buffer\n",
    "        \"\"\"\n",
    "        # TODO test fs size and bloc_num comparison\n",
    "        try:\n",
    "            self.fd.seek(bloc_num*self.blksize)\n",
    "            buff = self.fd.read(int(numofblk*self.blksize))\n",
    "        except OSError, err:\n",
    "            print(err)\n",
    "\n",
    "        return buff\n",
    "\n",
    "    def write_bloc(self, bloc_num, bloc):\n",
    "        \"\"\" Write a block to block device\n",
    "        :param bloc_num: block number to be written\n",
    "        :param bloc: buffer to be written\n",
    "        :return: nb of bytes actually written\n",
    "        \"\"\"\n",
    "        try:\n",
    "            self.fd.seek(bloc_num*self.blksize)\n",
    "            n = self.fd.write(bloc)\n",
    "        except OSError, err:\n",
    "            print(err)\n",
    "\n",
    "        return n\n",
    "\n",
    "\n",
    "class remote_bloc_device(object):\n",
    "    \"\"\" Class remote block device\n",
    "\n",
    "        This class connect to a remote bloc server and\n",
    "        read/write commands are passed through a\n",
    "        TCP socket\n",
    "    \"\"\"\n",
    "\n",
    "    def __init__(self, blksize, host=\"localhost\", port=1234):\n",
    "        self.blksize = blksize\n",
    "        self.requests = []\n",
    "        self.responses = []\n",
    "        self.fd = socket.socket(socket.AF_INET, socket.SOCK_STREAM)\n",
    "        try:\n",
    "            self.fd.connect((socket.gethostbyname(host), port))\n",
    "        except socket.error:\n",
    "            print(\"Couldnt connect to the block server\")\n",
    "            sys.exit(\"Error unable to connect to block server\")\n",
    "\n",
    "        self.super_block = minix_superbloc(self)\n",
    "        log.info(\"remote file system opened successfully\")\n",
    "\n",
    "    def __del__(self):\n",
    "        \"\"\" Cleanly close the socket \"\"\"\n",
    "        new_sb = bytearray(\"\".ljust(1024, '\\x00'))\n",
    "        clean_state = 1\n",
    "        sb = struct.pack('HHHHHHIHH', self.super_block.s_ninodes, self.super_block.s_nzones,\n",
    "                self.super_block.s_imap_blocks, self.super_block.s_zmap_blocks, self.super_block.s_firstdatazone,\n",
    "                self.super_block.s_log_zone_size, self.super_block.s_max_size, self.super_block.s_magic, clean_state)\n",
    "        new_sb[:sb.__len__()] = sb\n",
    "        self.close_connection()\n",
    "\n",
    "    def read_bloc(self, bloc_num, numofbloc=1):\n",
    "        \"\"\" Read n block from block device server\n",
    "\n",
    "        :param bloc_num: the bloc number\n",
    "        :param numofbloc: number of block to be read\n",
    "        :return: the response\n",
    "        \"\"\"\n",
    "        magic_req = int('76767676', 16)\n",
    "        magic_resp = int('87878787', 16)\n",
    "        rw_type = 0\n",
    "        rand.seed(None)  # None = current system time\n",
    "        handle = rand.randint(0, 2**32)\n",
    "        offset = bloc_num*self.blksize\n",
    "        length = numofbloc*self.blksize\n",
    "        to_send = 0\n",
    "        header_size = struct.calcsize('!IIIII')\n",
    "\n",
    "        #\n",
    "        self.requests.insert(0, struct.pack('!IIIII', magic_req, rw_type, handle, offset, length))\n",
    "        done = False\n",
    "        buff = \"\"\n",
    "\n",
    "        while not done:\n",
    "            # send the header\n",
    "            while to_send < header_size:\n",
    "                sent = self.fd.send(self.requests[0][to_send:])\n",
    "                if sent == 0:\n",
    "                    raise RuntimeError(\"socket connection broken\")\n",
    "                to_send += sent\n",
    "\n",
    "            # read response\n",
    "            response = \"\"\n",
    "            response_size = struct.calcsize('!III')\n",
    "            to_recv = 0\n",
    "\n",
    "            while to_recv < response_size:\n",
    "                b = self.fd.recv(response_size-to_recv)\n",
    "                if b == '':\n",
    "                    raise RuntimeError(\"socket connection broken\")\n",
    "\n",
    "                response += b\n",
    "                to_recv += len(b)\n",
    "\n",
    "            h = struct.unpack('!III', response)\n",
    "\n",
    "            if h == (magic_resp, 0, handle):\n",
    "            \n",
    "                buff = \"\"\n",
    "                to_recv = 0\n",
    "                while to_recv < length:\n",
    "                    b = self.fd.recv(length-to_recv)\n",
    "                    if b == '':\n",
    "                        raise RuntimeError(\"socket connection broken\")\n",
    "                    buff += b\n",
    "                    to_recv += len(b)\n",
    "\n",
    "                # remove request from fifo\n",
    "                # self.requests.pop[0]\n",
    "                done = True\n",
    "\n",
    "            else:\n",
    "                raise RuntimeError(\"fail to read response\")\n",
    "\n",
    "        return buff\n",
    "\n",
    "    def write_bloc(self, bloc_num, bloc):\n",
    "        \"\"\" Write block from block device server\n",
    "\n",
    "        :param bloc_num: the bloc number\n",
    "        :param bloc: buffer to be written\n",
    "        \"\"\"\n",
    "        magic = int('76767676', 16)\n",
    "        magic_resp = int('87878787', 16)\n",
    "        rw_type = 1\n",
    "        rand.seed(None)  # None = current system time\n",
    "        handle = rand.randint(0, 2**32)\n",
    "        offset = bloc_num*self.blksize\n",
    "\n",
    "        # Can't write block not eq to BLOCK_SIZE it's a block server after all ?!\n",
    "        if bloc.__len__() != self.blksize:\n",
    "            log.error(\"Block isn't equal to block size\")\n",
    "            raise BlockSizeError(\"Block isn't equal to block size\")\n",
    "\n",
    "        to_send = 0\n",
    "        header = struct.pack('!IIIII', magic, rw_type, handle, offset, self.blksize)\n",
    "        self.requests.insert(0, header+bloc)\n",
    "        # TODO consolider while send\n",
    "        while to_send < len(header+bloc):\n",
    "            sent = self.fd.send(self.requests[0][to_send:])\n",
    "            if sent == 0:\n",
    "                raise RuntimeError(\"socket connection broken\")\n",
    "            to_send += sent\n",
    "\n",
    "        # read response\n",
    "        responce = ''\n",
    "        response_size = struct.calcsize('!III')\n",
    "        to_recv = 0\n",
    "\n",
    "        while to_recv < response_size:\n",
    "            b = self.fd.recv(response_size-to_recv)\n",
    "            if b == '':\n",
    "                raise RuntimeError(\"socket connection broken\")\n",
    "            responce += b\n",
    "            to_recv += len(b)\n",
    "\n",
    "        h = struct.unpack('!III', responce)\n",
    "        # TODO resend, close and pop\n",
    "        # self.requests.pop[0]\n",
    "\n",
    "    def close_connection(self):\n",
    "        \"\"\" close properly the socket \"\"\"\n",
    "\n",
    "        try:\n",
    "            self.fd.close()\n",
    "            log.info(\"socket cleanly closed\")\n",
    "        except:\n",
    "            log.error(\"Error closing socket\")\n",
    "\n",
    "\n",
    "class MyBaseException(Exception):\n",
    "    \"\"\" Class minixfs exceptions  \"\"\"\n",
    "    def __init__(self, message):\n",
    "        super(MyBaseException, self).__init__(message)\n",
    "        self.message = message\n",
    "\n",
    "\n",
    "class BlockSizeError(MyBaseException):\n",
    "    pass\n"
   ]
  },
  {
   "cell_type": "code",
   "execution_count": 8,
   "metadata": {
    "collapsed": false
   },
   "outputs": [
    {
     "name": "stdout",
     "output_type": "stream",
     "text": [
      "Help on built-in function print in module builtins:\n",
      "\n",
      "print(...)\n",
      "    print(value, ..., sep=' ', end='\\n', file=sys.stdout, flush=False)\n",
      "    \n",
      "    Prints the values to a stream, or to sys.stdout by default.\n",
      "    Optional keyword arguments:\n",
      "    file:  a file-like object (stream); defaults to the current sys.stdout.\n",
      "    sep:   string inserted between values, default a space.\n",
      "    end:   string appended after the last value, default a newline.\n",
      "    flush: whether to forcibly flush the stream.\n",
      "\n"
     ]
    }
   ],
   "source": [
    "help(print)"
   ]
  },
  {
   "cell_type": "code",
   "execution_count": 3,
   "metadata": {
    "collapsed": false
   },
   "outputs": [
    {
     "name": "stdout",
     "output_type": "stream",
     "text": [
      "total 69572\r\n",
      "drwxr-xr-x  7 1000 1000     4096 Jun  1 21:48 .\r\n",
      "drwxr-xr-x 22 root root     4096 Jun  1 22:55 ..\r\n",
      "drwxr-xr-x  3 1000 1000     4096 Mar 29 11:58 bitarray.unused\r\n",
      "-rw-r--r--  1 1000 1000     7750 May 30 18:29 bloc_device.py\r\n",
      "-rw-r--r--  1 1000 1000     8007 May 30 18:32 bloc_device.pyc\r\n",
      "-rw-r--r--  1 1000 1000    17010 May  4 17:19 code_tester2.tgz\r\n",
      "-rw-r--r--  1 1000 1000      821 May 10 18:06 constantes.py\r\n",
      "-rw-r--r--  1 1000 1000      988 May 30 17:16 constantes.pyc\r\n",
      "drwxr-xr-x  6 1000 1000     4096 Jun  1 23:14 docs\r\n",
      "drwxr-xr-x  8 1000 1000     4096 Jun  1 23:05 .git\r\n",
      "-rw-r--r--  1 1000 1000     2301 May 17 09:32 .gitignore\r\n",
      "-rw-r--r--  1 1000 1000    12894 Mar 23 17:37 hexdump.py\r\n",
      "-rw-r--r--  1 1000 1000    13340 May 30 17:16 hexdump.pyc\r\n",
      "drwxr-xr-x  5 1000 1000     4096 May 30 19:17 .idea\r\n",
      "-rw-r--r--  1 1000 1000      176 May  9 10:45 Makefile\r\n",
      "-rw-r--r--  1 1000 1000 20971520 May 24 09:45 minixfs_lab1.img\r\n",
      "-rw-r--r--  1 1000 1000 20971520 May 24 09:45 minixfs_lab1.img.org\r\n",
      "-rw-r--r--  1 1000 1000  2097152 May 12 12:21 minixfs_lab2.img\r\n",
      "-rw-r--r--  1 1000 1000  2097152 May  4 13:55 minixfs_lab2.img.org\r\n",
      "-rw-r--r--  1 1000 1000    14636 Jun  1 18:43 minixfs.py\r\n",
      "-rw-r--r--  1 1000 1000    14314 Jun  1 18:44 minixfs.pyc\r\n",
      "-rw-r--r--  1 1000 1000      312 May  3 16:53 minixfs_tester.log\r\n",
      "-rw-r--r--  1 1000 1000     2242 May 30 12:09 minix_inode.py\r\n",
      "-rw-r--r--  1 1000 1000     2522 May 30 17:16 minix_inode.pyc\r\n",
      "-rw-r--r--  1 1000 1000      805 May  3 17:39 minix_superbloc.py\r\n",
      "-rw-r--r--  1 1000 1000     1312 May 30 17:16 minix_superbloc.pyc\r\n",
      "drwxr-xr-x  2 1000 1000     4096 May  3 18:00 __pycache__\r\n",
      "-rw-r--r--  1 1000 1000     1713 Mar 28 18:27 README\r\n",
      "-rw-r--r--  1 1000 1000 20971520 Jun  1 18:45 remote_minixfs_lab1.img\r\n",
      "-rw-r--r--  1 1000 1000  2097152 May 17 09:31 remote_minixfs_lab2.img\r\n",
      "-rwxr-xr-x  1 1000 1000    15688 May 24 09:00 server\r\n",
      "-rw-r--r--  1 1000 1000    10825 Jun  1 21:48 server.c\r\n",
      "-rw-r--r--  1 1000 1000     3098 May 22 18:16 server.h\r\n",
      "-rw-r--r--  1 1000 1000    10208 May  4 17:25 tester2.py\r\n",
      "-rw-r--r--  1 1000 1000   141058 May  4 13:57 tester_answers2.py\r\n",
      "-rw-r--r--  1 1000 1000   940206 Mar 29 13:30 tester_answers.py\r\n",
      "-rw-r--r--  1 1000 1000   695681 May 30 17:16 tester_answers.pyc\r\n",
      "-rw-r--r--  1 1000 1000    10402 May 30 12:06 tester.py\r\n",
      "-rw-r--r--  1 1000 1000    11718 May 30 17:56 tester_server.py\r\n",
      "-rw-r--r--  1 1000 1000     8168 May 30 17:56 tester_server.pyc\r\n",
      "-rw-r--r--  1 1000 1000     1367 Apr 26 19:31 tests_sebastien.py\r\n"
     ]
    }
   ],
   "source": [
    "!ls -al  .."
   ]
  },
  {
   "cell_type": "code",
   "execution_count": 4,
   "metadata": {
    "collapsed": false
   },
   "outputs": [
    {
     "name": "stdout",
     "output_type": "stream",
     "text": [
      "# Generated by resolvconf\r\n",
      "search v.cablecom.net\r\n",
      "nameserver 62.2.17.60\r\n",
      "nameserver 62.2.24.162\r\n"
     ]
    }
   ],
   "source": [
    "!cat /etc/resolv.conf\n"
   ]
  },
  {
   "cell_type": "code",
   "execution_count": null,
   "metadata": {
    "collapsed": true
   },
   "outputs": [],
   "source": []
  }
 ],
 "metadata": {
  "celltoolbar": "Slideshow",
  "kernelspec": {
   "display_name": "Python 3",
   "language": "python",
   "name": "python3"
  },
  "language_info": {
   "codemirror_mode": {
    "name": "ipython",
    "version": 3
   },
   "file_extension": ".py",
   "mimetype": "text/x-python",
   "name": "python",
   "nbconvert_exporter": "python",
   "pygments_lexer": "ipython3",
   "version": "3.4.0"
  }
 },
 "nbformat": 4,
 "nbformat_minor": 0
}
