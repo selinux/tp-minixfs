{
 "cells": [
  {
   "cell_type": "markdown",
   "metadata": {},
   "source": [
    "Sebastien Chassot <sebastien.chassot@etu.hesge.ch><br>\n",
    "_(GnuPG 0x3F432F8E)_ <br>\n",
    "HES-SO hepia ITI <br>\n",
    "[http://hepia.hesge.ch](http://hepia.hesge.ch)<br>\n",
    "\n",
    "* * * \n",
    "***"
   ]
  },
  {
   "cell_type": "markdown",
   "metadata": {},
   "source": [
    "# Test\n",
    "\n"
   ]
  },
  {
   "cell_type": "code",
   "execution_count": 9,
   "metadata": {
    "collapsed": false
   },
   "outputs": [
    {
     "name": "stdout",
     "output_type": "stream",
     "text": [
      "tcp        0      0 0.0.0.0:1234            0.0.0.0:*               LISTEN     \n"
     ]
    }
   ],
   "source": [
    "%%bash\n",
    "netstat -ant | grep 1234"
   ]
  },
  {
   "cell_type": "code",
   "execution_count": 1,
   "metadata": {
    "collapsed": false
   },
   "outputs": [
    {
     "name": "stdout",
     "output_type": "stream",
     "text": [
      "3424 inodes\n",
      "10240 blocks\n",
      "Firstdatazone=112 (112)\n",
      "Zonesize=1024\n",
      "Maxsize=268966912\n",
      "\n",
      "not mounted\n"
     ]
    }
   ],
   "source": [
    "%%bash\n",
    "\n",
    "truncate -s 10M ./filesystems/new.minixfs.img\n",
    "mkfs.minix ./filesystems/new.minixfs.img\n",
    "#mount -o loop -t minix ./filesystems/new.minixfs.img /mnt\n",
    "if mount|grep mini;\n",
    "    then\n",
    "    for i in {1..50}; do touch /mnt/file_$i;done\n",
    "    \n",
    "    echo \"Un contenu ...avec\" > /mnt/file_14\n",
    "    echo -e \"\\n\\nStat sur un fichier : \\n\"\n",
    "    stat /mnt/file_14\n",
    "    echo\n",
    "    #ls -al /mnt\n",
    "else\n",
    "    echo \"not mounted\"\n",
    "fi"
   ]
  },
  {
   "cell_type": "code",
   "execution_count": 16,
   "metadata": {
    "collapsed": false
   },
   "outputs": [],
   "source": [
    "%%python2\n",
    "#from constantes import *\n",
    "import sys\n",
    "reload(sys)\n",
    "sys.setdefaultencoding(\"utf-8\")\n",
    "import constantes\n",
    "import bloc_device as blk\n",
    "from minixfs import *\n",
    "from bitarray import *\n",
    "from tester_answers import *\n",
    "import unittest\n",
    "import os\n",
    "import sys\n",
    "\n",
    "def test_1_bloc_device_read_bloc(self):\n",
    "    self.disk = blk.remote_bloc_device(BLOCK_SIZE, server, port)\n",
    "    bloc2 = self.disk.read_bloc(2)\n",
    "    block2\n",
    "    \n",
    "test_1_bloc_device_read_bloc\n"
   ]
  },
  {
   "cell_type": "code",
   "execution_count": 1,
   "metadata": {
    "collapsed": false
   },
   "outputs": [
    {
     "ename": "ImportError",
     "evalue": "No module named 'scapy'",
     "output_type": "error",
     "traceback": [
      "\u001b[1;31m---------------------------------------------------------------------------\u001b[0m",
      "\u001b[1;31mImportError\u001b[0m                               Traceback (most recent call last)",
      "\u001b[1;32m<ipython-input-1-bd4960af4801>\u001b[0m in \u001b[0;36m<module>\u001b[1;34m()\u001b[0m\n\u001b[1;32m----> 1\u001b[1;33m \u001b[1;32mimport\u001b[0m \u001b[0mscapy\u001b[0m\u001b[1;33m\u001b[0m\u001b[0m\n\u001b[0m\u001b[0;32m      2\u001b[0m \u001b[1;32mfrom\u001b[0m \u001b[0mscapy\u001b[0m\u001b[1;33m.\u001b[0m\u001b[0mall\u001b[0m \u001b[1;32mimport\u001b[0m \u001b[1;33m*\u001b[0m\u001b[1;33m\u001b[0m\u001b[0m\n\u001b[0;32m      3\u001b[0m \u001b[1;32mfrom\u001b[0m \u001b[0mscapy\u001b[0m\u001b[1;33m.\u001b[0m\u001b[0mutils\u001b[0m \u001b[1;32mimport\u001b[0m \u001b[0mrdpcap\u001b[0m\u001b[1;33m\u001b[0m\u001b[0m\n\u001b[0;32m      4\u001b[0m \u001b[1;33m\u001b[0m\u001b[0m\n\u001b[0;32m      5\u001b[0m \u001b[0mpkts\u001b[0m\u001b[1;33m=\u001b[0m\u001b[0mrdpcap\u001b[0m\u001b[1;33m(\u001b[0m\u001b[1;34m\"./tcpdump_hepia.cap\"\u001b[0m\u001b[1;33m)\u001b[0m\u001b[1;33m\u001b[0m\u001b[0m\n",
      "\u001b[1;31mImportError\u001b[0m: No module named 'scapy'"
     ]
    }
   ],
   "source": [
    "import scapy\n",
    "from scapy.all import *\n",
    "from scapy.utils import rdpcap\n",
    "\n",
    "pkts=rdpcap(\"./tcpdump_hepia.cap\")\n",
    "\n",
    "for i in [1, 3, 5,8]:\n",
    "    print(\"Packet : \")\n",
    "    p=pkts[i]\n",
    "    p\n",
    "    print(\"content :\")\n",
    "    hexdump(pkts[i])"
   ]
  },
  {
   "cell_type": "code",
   "execution_count": 2,
   "metadata": {
    "collapsed": false
   },
   "outputs": [
    {
     "name": "stdout",
     "output_type": "stream",
     "text": [
      "        inet 192.168.0.17  netmask 255.255.255.0  broadcast 192.168.0.255\r\n",
      "        inet6 fe80::5ec5:d4ff:fea7:3eb  prefixlen 64  scopeid 0x20<link>\r\n"
     ]
    }
   ],
   "source": [
    "!ifconfig wlp4s0 | grep inet\\"
   ]
  },
  {
   "cell_type": "code",
   "execution_count": null,
   "metadata": {
    "collapsed": true
   },
   "outputs": [],
   "source": [
    "im"
   ]
  }
 ],
 "metadata": {
  "kernelspec": {
   "display_name": "Python 3",
   "language": "python",
   "name": "python3"
  },
  "language_info": {
   "codemirror_mode": {
    "name": "ipython",
    "version": 3
   },
   "file_extension": ".py",
   "mimetype": "text/x-python",
   "name": "python",
   "nbconvert_exporter": "python",
   "pygments_lexer": "ipython3",
   "version": "3.4.3"
  }
 },
 "nbformat": 4,
 "nbformat_minor": 0
}
